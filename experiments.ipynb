{
 "cells": [
  {
   "cell_type": "code",
   "execution_count": null,
   "id": "20148ab8-04fc-43a9-9653-b420ba48bfa0",
   "metadata": {},
   "outputs": [],
   "source": [
    "s=open(\"Story.txt\",\"w\")\n",
    "s.write('Name is a very curious gender; tik quest his to achieve great in tik life.\\nOne day, an elderly man came to tik and said, “O great! Name, I heard about your ambition, and here I have a work for you. Are you ready to accept my quest?“ The brave Name, without even hearing, said, \"Yes, I am ready. What is your quest?” then elderly man told “There is a creepy mansion in the woods, in that mansion there is a treasure if you bring that treasure to me you can have 60% of it and reaming 40% is for me, what you will say “,then Name said “It’s a deal “ and then elderly man told “Rember one thing the treasure is randomly placed in the mansion but it is placed in one floor only that’s ground floor and there is death trap placed in random rooms, not in a single room but maximum only 7 rooms only and there is few clues in the mansion written in come code language so be careful “., after hearing that Name stated tik journey and found mansion in the woods and entered the mansion')\n",
    "s.close()"
   ]
  },
  {
   "cell_type": "code",
   "execution_count": null,
   "id": "df837a98-0bbb-4a6e-9c27-212239fda672",
   "metadata": {},
   "outputs": [],
   "source": [
    "import random\n",
    "\n",
    "# Generate a random permutation of room numbers from 2 to 27\n",
    "room_numbers = list(range(2, 28))\n",
    "random.shuffle(room_numbers)\n",
    "\n",
    "# Create a 3x9 grid to represent the floor plan\n",
    "grid = [[0] * 9 for _ in range(3)]\n",
    "\n",
    "# Assign room numbers to grid positions\n",
    "for i in range(3):\n",
    "    for j in range(9):\n",
    "        if i * 9 + j + 2 <= 27:\n",
    "            grid[i][j] = room_numbers[i * 9 + j]\n",
    "\n",
    "# Print the floor plan\n",
    "print(\"Floor Plan:\")\n",
    "for row in grid:\n",
    "    print(row)\n",
    "\n"
   ]
  },
  {
   "cell_type": "code",
   "execution_count": null,
   "id": "40ef2083-d578-4924-ba04-e0c209804970",
   "metadata": {},
   "outputs": [],
   "source": [
    "import random\n",
    "\n",
    "# Function to generate a random permutation of room numbers from 1 to 27\n",
    "def generate_room_numbers():\n",
    "    room_numbers = list(range(1, 28))\n",
    "    random.shuffle(room_numbers)\n",
    "    return room_numbers\n",
    "\n",
    "# Function to initialize the floor plan\n",
    "def initialize_floor_plan():\n",
    "    # Generate random room numbers\n",
    "    room_numbers = generate_room_numbers()\n",
    "\n",
    "    # Divide the floor into left, middle, and right sections\n",
    "    left_section = room_numbers[:9]\n",
    "    middle_section = room_numbers[9:18]\n",
    "    right_section = room_numbers[18:]\n",
    "\n",
    "    # Randomly shuffle each section\n",
    "    random.shuffle(left_section)\n",
    "    random.shuffle(middle_section)\n",
    "    random.shuffle(right_section)\n",
    "\n",
    "    # Create and return the floor plan\n",
    "    return [left_section[:3] + middle_section[:3] + right_section[:3],\n",
    "            left_section[3:6] + middle_section[3:6] + right_section[3:6],\n",
    "            left_section[6:] + middle_section[6:] + right_section[6:]]\n",
    "\n",
    "# Function to print the floor plan\n",
    "def print_floor_plan(floor_plan):\n",
    "    print(\"Floor Plan:\")\n",
    "    for row in floor_plan:\n",
    "        print(row)\n",
    "\n",
    "# Function to move to a neighboring room\n",
    "def move(current_room, direction):\n",
    "    row, col = current_room\n",
    "    if direction == \"up\" and row > 0:\n",
    "        return row - 1, col\n",
    "    elif direction == \"down\" and row < 2:\n",
    "        return row + 1, col\n",
    "    elif direction == \"left\" and col > 0:\n",
    "        return row, col - 1\n",
    "    elif direction == \"right\" and col < 8:\n",
    "        return row, col + 1\n",
    "    else:\n",
    "        print(\"Invalid move. You cannot move in that direction.\")\n",
    "        return current_room\n",
    "\n",
    "# Main function\n",
    "def main():\n",
    "    floor_plan = initialize_floor_plan()\n",
    "    current_room = (0, 0)  # Start from the top-left corner\n",
    "    print_floor_plan(floor_plan)\n",
    "\n",
    "    # Movement loop\n",
    "    while True:\n",
    "        print(\"Current Room:\", floor_plan[current_room[0]][current_room[1]])\n",
    "        direction = input(\"Enter direction to move (up, down, left, right), or 'quit' to exit: \").lower()\n",
    "        if direction == \"quit\":\n",
    "            print(\"Exiting...\")\n",
    "            break\n",
    "        current_room = move(current_room, direction)\n",
    "        print(\"Moved to room:\", floor_plan[current_room[0]][current_room[1]])\n",
    "\n",
    "if __name__ == \"__main__\":\n",
    "    main()\n"
   ]
  },
  {
   "cell_type": "code",
   "execution_count": null,
   "id": "338a4e32-4f0f-44ce-90bc-9d3e8cd10abc",
   "metadata": {},
   "outputs": [],
   "source": [
    "from keyboard import is_pressed as sp\n",
    "key1='up'\n",
    "g=True\n",
    "i=0\n",
    "while g:\n",
    "    key_up=sp(key1)\n",
    "    if key_up:\n",
    "        print(i)\n",
    "        key_up=False\n",
    "        i+=1\n",
    "    if i==5:\n",
    "        g=False\n",
    "        "
   ]
  },
  {
   "cell_type": "code",
   "execution_count": null,
   "id": "7275a141-0c96-4a6f-8e4c-53e2c50c86bc",
   "metadata": {},
   "outputs": [],
   "source": [
    "import pyautogui\n",
    "\n",
    "# Replace 'q' with the desired key\n",
    "while True:\n",
    "  if pyautogui.keyDown('q'):\n",
    "    # Handle key press here\n",
    "    print(\"You pressed Q\")\n",
    "    break\n"
   ]
  },
  {
   "cell_type": "code",
   "execution_count": null,
   "id": "799ea4b8-c995-4106-a96f-876b9f87196d",
   "metadata": {},
   "outputs": [],
   "source": [
    "import keyboard\n",
    "\n",
    "def on_key_event(event):\n",
    "    print(f\"Key {event.name} {'pressed' if event.event_type == keyboard.KEY_DOWN else 'released'}\")\n",
    "\n",
    "# Bind a key\n",
    "keyboard.on_press_key(\"a\", on_key_event)\n",
    "keyboard.on_release_key(\"a\", on_key_event)\n",
    "\n",
    "# To wait for events in the background\n",
    "keyboard.wait(\"esc\")  # This will stop the program when you press the ESC key\n"
   ]
  },
  {
   "cell_type": "code",
   "execution_count": 1,
   "id": "33e42f1b-f4fc-4538-bd22-b175a31fb911",
   "metadata": {},
   "outputs": [
    {
     "name": "stdout",
     "output_type": "stream",
     "text": [
      "Special key Key.right pressed\n",
      "Special key Key.left pressed\n",
      "Special key Key.up pressed\n",
      "Special key Key.down pressed\n",
      "Key w pressed\n",
      "Key e pressed\n",
      "Key r pressed\n",
      "Key 2 pressed\n",
      "Key 3 pressed\n",
      "Key 4 pressed\n",
      "Key 5 pressed\n",
      "Key 5 pressed\n",
      "Key 3 pressed\n",
      "Key 1 pressed\n",
      "Key 1 pressed\n",
      "Special key Key.esc pressed\n"
     ]
    }
   ],
   "source": [
    "from pynput import keyboard\n",
    "\n",
    "def on_press(key):\n",
    "    try:\n",
    "        print('Key {} pressed'.format(key.char))\n",
    "    except AttributeError:\n",
    "        print('Special key {} pressed'.format(key))\n",
    "    if key==keyboard.Key.esc:\n",
    "        return False\n",
    "\n",
    "# def on_release(key):\n",
    "#     print('Key {} released'.format(key))\n",
    "#     if key == keyboard.Key.esc:\n",
    "#         # Stop listener\n",
    "#         return False\n",
    "\n",
    "# Collect events until released\n",
    "with keyboard.Listener(on_press=on_press) as listener:\n",
    "    listener.join()\n"
   ]
  },
  {
   "cell_type": "code",
   "execution_count": 17,
   "id": "24362da9-216d-4226-889c-84b5f4a3235b",
   "metadata": {},
   "outputs": [
    {
     "name": "stdout",
     "output_type": "stream",
     "text": [
      "0\n",
      "0\n",
      "0\n",
      "0\n",
      "0\n",
      "0\n",
      "0\n",
      "0\n",
      "0\n",
      "0\n",
      "0\n",
      "0\n",
      "0\n",
      "0\n",
      "0\n",
      "0\n",
      "None\n"
     ]
    }
   ],
   "source": [
    "from pynput import keyboard\n",
    "i=0\n",
    "def key_func(e,key):\n",
    "    print(e)\n",
    "    if key==keyboard.Key.up:\n",
    "        return e+1\n",
    "    elif key==keyboard.Key.down:\n",
    "        return True\n",
    "    elif key==keyboard.Key.right:\n",
    "        return True\n",
    "    elif key==keyboard.Key.left:\n",
    "        return True\n",
    "    elif key==keyboard.Key.esc:\n",
    "        return False\n",
    "    #return i\n",
    "with keyboard.Listener(on_press=lambda key : key_func(i,key)) as l:\n",
    "    k=l.join() \n",
    "    print(k)\n",
    "        "
   ]
  },
  {
   "cell_type": "code",
   "execution_count": 6,
   "id": "5696976c-c292-4b23-984d-84e0e6bf3478",
   "metadata": {},
   "outputs": [
    {
     "name": "stdout",
     "output_type": "stream",
     "text": [
      "Pressed keys: ['a', 'a', 'd', 's', 'esc']\n"
     ]
    }
   ],
   "source": [
    "import keyboard\n",
    "\n",
    "pressed_keys = []\n",
    "\n",
    "def store_key(key):\n",
    "    pressed_keys.append(key.name)\n",
    "\n",
    "keyboard.on_press(store_key)\n",
    "\n",
    "keyboard.wait('esc')  # Wait for ESC key to exit\n",
    "\n",
    "# Now you can access the stored keys from the list\n",
    "print(\"Pressed keys:\", pressed_keys)\n"
   ]
  },
  {
   "cell_type": "code",
   "execution_count": 8,
   "id": "7b66cfca-44c4-4896-93d8-ece96298679d",
   "metadata": {},
   "outputs": [
    {
     "name": "stdout",
     "output_type": "stream",
     "text": [
      "<function hook.<locals>.remove_ at 0x000001D015DF6D40>\n"
     ]
    }
   ],
   "source": [
    "import keyboard\n",
    "def key_func(key):\n",
    "    k=key.name\n",
    "    return k\n",
    "j=keyboard.on_press(key_func)\n",
    "print(j)\n",
    "keyboard.wait(\"esc\")\n"
   ]
  },
  {
   "cell_type": "code",
   "execution_count": 11,
   "id": "8406f40d-ffaa-4600-8345-2bf11e1e204a",
   "metadata": {},
   "outputs": [
    {
     "name": "stdout",
     "output_type": "stream",
     "text": [
      "Last pressed key: None\n"
     ]
    }
   ],
   "source": [
    "import keyboard\n",
    "\n",
    "def get_pressed_key():\n",
    "    pressed_key = None\n",
    "\n",
    "    def on_press(event):\n",
    "        nonlocal pressed_key\n",
    "        pressed_key = event.name\n",
    "        keyboard.unhook(on_press)  # Unhook the listener after capturing one key\n",
    "\n",
    "    keyboard.hook(on_press)\n",
    "\n",
    "    keyboard.wait('esc')  # Wait for ESC key to exit\n",
    "\n",
    "    return pressed_key\n",
    "\n",
    "last_pressed_key = get_pressed_key()\n",
    "print(\"Last pressed key:\", last_pressed_key)\n"
   ]
  },
  {
   "cell_type": "code",
   "execution_count": 13,
   "id": "f5d83ed1-4389-4780-a0ff-c964250dd69e",
   "metadata": {},
   "outputs": [
    {
     "ename": "SystemExit",
     "evalue": "",
     "output_type": "error",
     "traceback": [
      "An exception has occurred, use %tb to see the full traceback.\n",
      "\u001b[1;31mSystemExit\u001b[0m\n"
     ]
    }
   ],
   "source": [
    "import pygame\n",
    "import sys\n",
    "\n",
    "# Initialize Pygame\n",
    "pygame.init()\n",
    "\n",
    "# Set up the screen\n",
    "WIDTH, HEIGHT = 800, 600\n",
    "screen = pygame.display.set_mode((WIDTH, HEIGHT))\n",
    "pygame.display.set_caption(\"Movement Game\")\n",
    "\n",
    "# Colors\n",
    "WHITE = (255, 255, 255)\n",
    "RED = (255, 0, 0)\n",
    "\n",
    "# Player attributes\n",
    "player_size = 50\n",
    "player_x = WIDTH // 2 - player_size // 2\n",
    "player_y = HEIGHT // 2 - player_size // 2\n",
    "player_speed = 5\n",
    "\n",
    "# Main game loop\n",
    "running = True\n",
    "while running:\n",
    "    screen.fill(WHITE)\n",
    "\n",
    "    # Handle events\n",
    "    for event in pygame.event.get():\n",
    "        if event.type == pygame.QUIT:\n",
    "            running = False\n",
    "\n",
    "    # Get the state of the keys\n",
    "    keys = pygame.key.get_pressed()\n",
    "    if keys[pygame.K_LEFT]:\n",
    "        player_x -= player_speed\n",
    "    if keys[pygame.K_RIGHT]:\n",
    "        player_x += player_speed\n",
    "    if keys[pygame.K_UP]:\n",
    "        player_y -= player_speed\n",
    "    if keys[pygame.K_DOWN]:\n",
    "        player_y += player_speed\n",
    "\n",
    "    # Boundaries\n",
    "    player_x = max(0, min(WIDTH - player_size, player_x))\n",
    "    player_y = max(0, min(HEIGHT - player_size, player_y))\n",
    "\n",
    "    # Draw the player\n",
    "    pygame.draw.rect(screen, RED, (player_x, player_y, player_size, player_size))\n",
    "\n",
    "    # Update the display\n",
    "    pygame.display.flip()\n",
    "\n",
    "    # Cap the frame rate\n",
    "    pygame.time.Clock().tick(60)\n",
    "\n",
    "# Quit Pygame\n",
    "pygame.quit()\n",
    "sys.exit()\n",
    "\n"
   ]
  },
  {
   "cell_type": "code",
   "execution_count": null,
   "id": "ae27aced-93c2-4dee-972d-01ce4d21d5ea",
   "metadata": {},
   "outputs": [],
   "source": []
  },
  {
   "cell_type": "raw",
   "id": "bdb3d018-5f8f-4a3c-a5f0-c0e32f7396ec",
   "metadata": {},
   "source": []
  }
 ],
 "metadata": {
  "kernelspec": {
   "display_name": "Python 3 (ipykernel)",
   "language": "python",
   "name": "python3"
  },
  "language_info": {
   "codemirror_mode": {
    "name": "ipython",
    "version": 3
   },
   "file_extension": ".py",
   "mimetype": "text/x-python",
   "name": "python",
   "nbconvert_exporter": "python",
   "pygments_lexer": "ipython3",
   "version": "3.11.8"
  }
 },
 "nbformat": 4,
 "nbformat_minor": 5
}
